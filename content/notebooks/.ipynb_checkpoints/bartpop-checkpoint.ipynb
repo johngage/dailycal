{
 "cells": [
  {
   "cell_type": "code",
   "execution_count": 6,
   "metadata": {},
   "outputs": [],
   "source": [
    "import pandas as pd\n",
    "import numpy as np\n",
    "%matplotlib inline\n",
    "import matplotlib.pyplot as plt\n",
    "#import plotly.plotly as py\n",
    "#import plotly.graph_objs as go\n",
    "import seaborn as sns\n",
    "sns.set()\n",
    "sns.set_context('talk')\n",
    "np.set_printoptions(threshold=20, precision=2, suppress=True)\n",
    "pd.options.display.max_rows = 7\n",
    "pd.options.display.max_columns = 8\n",
    "pd.set_option('precision', 2)\n"
   ]
  },
  {
   "cell_type": "code",
   "execution_count": 12,
   "metadata": {},
   "outputs": [
    {
     "name": "stdout",
     "output_type": "stream",
     "text": [
      "ls: -al: No such file or directory\r\n",
      "..:\r\n",
      "\u001b[34mBART\u001b[m\u001b[m           \u001b[34mdata\u001b[m\u001b[m           \u001b[34mfeatures\u001b[m\u001b[m       intro.md\r\n",
      "LICENSE.md     \u001b[34mdatajournalism\u001b[m\u001b[m \u001b[34mimages\u001b[m\u001b[m         \u001b[34mnotebooks\u001b[m\u001b[m\r\n"
     ]
    }
   ],
   "source": [
    "!ls .. -al"
   ]
  },
  {
   "cell_type": "code",
   "execution_count": 14,
   "metadata": {},
   "outputs": [
    {
     "data": {
      "text/html": [
       "<div>\n",
       "<style scoped>\n",
       "    .dataframe tbody tr th:only-of-type {\n",
       "        vertical-align: middle;\n",
       "    }\n",
       "\n",
       "    .dataframe tbody tr th {\n",
       "        vertical-align: top;\n",
       "    }\n",
       "\n",
       "    .dataframe thead th {\n",
       "        text-align: right;\n",
       "    }\n",
       "</style>\n",
       "<table border=\"1\" class=\"dataframe\">\n",
       "  <thead>\n",
       "    <tr style=\"text-align: right;\">\n",
       "      <th></th>\n",
       "      <th>Year</th>\n",
       "      <th>Very Satisfied</th>\n",
       "      <th>Somewhat Satisfied</th>\n",
       "      <th>Neutral</th>\n",
       "      <th>Somewhat Dissatisfied</th>\n",
       "      <th>Very Dissatisfied</th>\n",
       "      <th>Missing</th>\n",
       "      <th>Very or Somewhat Satisfied</th>\n",
       "    </tr>\n",
       "  </thead>\n",
       "  <tbody>\n",
       "    <tr>\n",
       "      <th>0</th>\n",
       "      <td>2008</td>\n",
       "      <td>42.33</td>\n",
       "      <td>41.48</td>\n",
       "      <td>10.39</td>\n",
       "      <td>4.45</td>\n",
       "      <td>0.97</td>\n",
       "      <td>0.38</td>\n",
       "      <td>83.82</td>\n",
       "    </tr>\n",
       "    <tr>\n",
       "      <th>1</th>\n",
       "      <td>2010</td>\n",
       "      <td>36.08</td>\n",
       "      <td>45.78</td>\n",
       "      <td>12.27</td>\n",
       "      <td>4.68</td>\n",
       "      <td>0.88</td>\n",
       "      <td>0.31</td>\n",
       "      <td>81.86</td>\n",
       "    </tr>\n",
       "    <tr>\n",
       "      <th>2</th>\n",
       "      <td>2012</td>\n",
       "      <td>39.70</td>\n",
       "      <td>44.24</td>\n",
       "      <td>10.73</td>\n",
       "      <td>4.04</td>\n",
       "      <td>0.96</td>\n",
       "      <td>0.33</td>\n",
       "      <td>83.94</td>\n",
       "    </tr>\n",
       "    <tr>\n",
       "      <th>3</th>\n",
       "      <td>2014</td>\n",
       "      <td>28.23</td>\n",
       "      <td>46.04</td>\n",
       "      <td>14.51</td>\n",
       "      <td>8.32</td>\n",
       "      <td>2.32</td>\n",
       "      <td>0.59</td>\n",
       "      <td>74.27</td>\n",
       "    </tr>\n",
       "    <tr>\n",
       "      <th>4</th>\n",
       "      <td>2016</td>\n",
       "      <td>23.53</td>\n",
       "      <td>45.23</td>\n",
       "      <td>16.82</td>\n",
       "      <td>10.71</td>\n",
       "      <td>3.28</td>\n",
       "      <td>0.43</td>\n",
       "      <td>68.76</td>\n",
       "    </tr>\n",
       "    <tr>\n",
       "      <th>5</th>\n",
       "      <td>2018</td>\n",
       "      <td>15.89</td>\n",
       "      <td>40.11</td>\n",
       "      <td>22.40</td>\n",
       "      <td>14.97</td>\n",
       "      <td>6.27</td>\n",
       "      <td>0.36</td>\n",
       "      <td>56.00</td>\n",
       "    </tr>\n",
       "  </tbody>\n",
       "</table>\n",
       "</div>"
      ],
      "text/plain": [
       "   Year  Very Satisfied  Somewhat Satisfied  Neutral  Somewhat Dissatisfied  \\\n",
       "0  2008           42.33               41.48    10.39                   4.45   \n",
       "1  2010           36.08               45.78    12.27                   4.68   \n",
       "2  2012           39.70               44.24    10.73                   4.04   \n",
       "3  2014           28.23               46.04    14.51                   8.32   \n",
       "4  2016           23.53               45.23    16.82                  10.71   \n",
       "5  2018           15.89               40.11    22.40                  14.97   \n",
       "\n",
       "   Very Dissatisfied  Missing  Very or Somewhat Satisfied  \n",
       "0               0.97     0.38                       83.82  \n",
       "1               0.88     0.31                       81.86  \n",
       "2               0.96     0.33                       83.94  \n",
       "3               2.32     0.59                       74.27  \n",
       "4               3.28     0.43                       68.76  \n",
       "5               6.27     0.36                       56.00  "
      ]
     },
     "execution_count": 14,
     "metadata": {},
     "output_type": "execute_result"
    }
   ],
   "source": [
    "bartpop = pd.read_csv(\"../data/Customer Satisfaction_2018.csv\")\n",
    "bartpop"
   ]
  },
  {
   "cell_type": "code",
   "execution_count": 23,
   "metadata": {},
   "outputs": [
    {
     "data": {
      "image/png": "[encoded data removed]",
      "text/plain": [
       "<Figure size 432x288 with 1 Axes>"
      ]
     },
     "metadata": {},
     "output_type": "display_data"
    }
   ],
   "source": [
    "ax= plt.gca()\n",
    "\n",
    "bartpop.plot(kind='line',x=\"Year\",y=\"Very or Somewhat Satisfied\", color='red', ax=ax)\n",
    "bartpop.plot(kind='line',x=\"Year\",y=\"Somewhat Dissatisfied\", color='blue', ax=ax)\n",
    "\n",
    "plt.show()"
   ]
  },
  {
   "cell_type": "code",
   "execution_count": null,
   "metadata": {},
   "outputs": [],
   "source": []
  }
 ],
 "metadata": {
  "kernelspec": {
   "display_name": "Python 3",
   "language": "python",
   "name": "python3"
  },
  "language_info": {
   "codemirror_mode": {
    "name": "ipython",
    "version": 3
   },
   "file_extension": ".py",
   "mimetype": "text/x-python",
   "name": "python",
   "nbconvert_exporter": "python",
   "pygments_lexer": "ipython3",
   "version": "3.7.4"
  }
 },
 "nbformat": 4,
 "nbformat_minor": 2
}
